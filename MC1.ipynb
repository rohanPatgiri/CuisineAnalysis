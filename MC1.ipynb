{
 "cells": [
  {
   "cell_type": "code",
   "execution_count": 28,
   "metadata": {},
   "outputs": [],
   "source": [
    "import pandas as pd\n",
    "import matplotlib.pyplot as plt"
   ]
  },
  {
   "cell_type": "code",
   "execution_count": 2,
   "metadata": {},
   "outputs": [],
   "source": [
    "restData = pd.read_csv(\"Cuisine Case Study.csv\")\n"
   ]
  },
  {
   "cell_type": "code",
   "execution_count": 3,
   "metadata": {},
   "outputs": [
    {
     "data": {
      "text/html": [
       "<div>\n",
       "<style scoped>\n",
       "    .dataframe tbody tr th:only-of-type {\n",
       "        vertical-align: middle;\n",
       "    }\n",
       "\n",
       "    .dataframe tbody tr th {\n",
       "        vertical-align: top;\n",
       "    }\n",
       "\n",
       "    .dataframe thead th {\n",
       "        text-align: right;\n",
       "    }\n",
       "</style>\n",
       "<table border=\"1\" class=\"dataframe\">\n",
       "  <thead>\n",
       "    <tr style=\"text-align: right;\">\n",
       "      <th></th>\n",
       "      <th>Res_Id</th>\n",
       "      <th>Rest_Name</th>\n",
       "      <th>Type</th>\n",
       "      <th>Address</th>\n",
       "      <th>City</th>\n",
       "      <th>City_Id</th>\n",
       "      <th>Region</th>\n",
       "      <th>Latitude</th>\n",
       "      <th>Longitude</th>\n",
       "      <th>PinCode</th>\n",
       "      <th>...</th>\n",
       "      <th>Average_Cost_Two</th>\n",
       "      <th>Price_Range</th>\n",
       "      <th>Services</th>\n",
       "      <th>Aggregate_Rating</th>\n",
       "      <th>Rating_Text</th>\n",
       "      <th>Votes</th>\n",
       "      <th>Photo_Count</th>\n",
       "      <th>Outdoor_Dining</th>\n",
       "      <th>Delivery</th>\n",
       "      <th>Takeaway</th>\n",
       "    </tr>\n",
       "  </thead>\n",
       "  <tbody>\n",
       "    <tr>\n",
       "      <th>0</th>\n",
       "      <td>3400299</td>\n",
       "      <td>Farsanwala</td>\n",
       "      <td>['Quick Bites']</td>\n",
       "      <td>Kalyani Point, Near Tulsi Cinema, Bypass Road,...</td>\n",
       "      <td>Agra</td>\n",
       "      <td>34</td>\n",
       "      <td>Khandari</td>\n",
       "      <td>27.211450</td>\n",
       "      <td>78.002381</td>\n",
       "      <td>NaN</td>\n",
       "      <td>...</td>\n",
       "      <td>700</td>\n",
       "      <td>2</td>\n",
       "      <td>['Lunch', 'Takeaway Available', 'Credit Card',...</td>\n",
       "      <td>4.4</td>\n",
       "      <td>Very Good</td>\n",
       "      <td>814</td>\n",
       "      <td>154</td>\n",
       "      <td>0</td>\n",
       "      <td>0</td>\n",
       "      <td>1</td>\n",
       "    </tr>\n",
       "    <tr>\n",
       "      <th>1</th>\n",
       "      <td>3400005</td>\n",
       "      <td>Murgi and Franky House</td>\n",
       "      <td>['Quick Bites']</td>\n",
       "      <td>Main Market, Sadar Bazaar, Agra Cantt, Agra</td>\n",
       "      <td>Agra</td>\n",
       "      <td>34</td>\n",
       "      <td>Agra Cantt</td>\n",
       "      <td>27.160569</td>\n",
       "      <td>78.011583</td>\n",
       "      <td>282001</td>\n",
       "      <td>...</td>\n",
       "      <td>600</td>\n",
       "      <td>2</td>\n",
       "      <td>['Delivery', 'No Alcohol Available', 'Dinner',...</td>\n",
       "      <td>4.4</td>\n",
       "      <td>Very Good</td>\n",
       "      <td>1203</td>\n",
       "      <td>161</td>\n",
       "      <td>0</td>\n",
       "      <td>1</td>\n",
       "      <td>1</td>\n",
       "    </tr>\n",
       "    <tr>\n",
       "      <th>2</th>\n",
       "      <td>3401013</td>\n",
       "      <td>Halwai ka khajana</td>\n",
       "      <td>['Quick Bites']</td>\n",
       "      <td>62/1, Near Easy Day, West Shivaji Nagar, Goalp...</td>\n",
       "      <td>Agra</td>\n",
       "      <td>34</td>\n",
       "      <td>Shahganj</td>\n",
       "      <td>27.182938</td>\n",
       "      <td>77.979684</td>\n",
       "      <td>282010</td>\n",
       "      <td>...</td>\n",
       "      <td>300</td>\n",
       "      <td>1</td>\n",
       "      <td>['No Alcohol Available', 'Dinner', 'Takeaway A...</td>\n",
       "      <td>4.2</td>\n",
       "      <td>Very Good</td>\n",
       "      <td>801</td>\n",
       "      <td>107</td>\n",
       "      <td>1</td>\n",
       "      <td>1</td>\n",
       "      <td>1</td>\n",
       "    </tr>\n",
       "    <tr>\n",
       "      <th>3</th>\n",
       "      <td>3400290</td>\n",
       "      <td>Halwai ka khajana</td>\n",
       "      <td>['Quick Bites']</td>\n",
       "      <td>Near Anjana Cinema, Nehru Nagar, Civil Lines, ...</td>\n",
       "      <td>Agra</td>\n",
       "      <td>34</td>\n",
       "      <td>Civil Lines</td>\n",
       "      <td>27.205668</td>\n",
       "      <td>78.004799</td>\n",
       "      <td>282002</td>\n",
       "      <td>...</td>\n",
       "      <td>300</td>\n",
       "      <td>1</td>\n",
       "      <td>['Takeaway Available', 'Credit Card', 'Lunch',...</td>\n",
       "      <td>4.3</td>\n",
       "      <td>Very Good</td>\n",
       "      <td>693</td>\n",
       "      <td>157</td>\n",
       "      <td>0</td>\n",
       "      <td>1</td>\n",
       "      <td>1</td>\n",
       "    </tr>\n",
       "    <tr>\n",
       "      <th>4</th>\n",
       "      <td>3401744</td>\n",
       "      <td>Opal Kitchen Cafe and Bar</td>\n",
       "      <td>['Casual Dining']</td>\n",
       "      <td>1C,3rd Floor, Fatehabad Road, Tajganj, Agra</td>\n",
       "      <td>Agra</td>\n",
       "      <td>34</td>\n",
       "      <td>Tajganj</td>\n",
       "      <td>27.157709</td>\n",
       "      <td>78.052421</td>\n",
       "      <td>NaN</td>\n",
       "      <td>...</td>\n",
       "      <td>1000</td>\n",
       "      <td>3</td>\n",
       "      <td>['Lunch', 'Serves Alcohol', 'Cash', 'Credit Ca...</td>\n",
       "      <td>4.9</td>\n",
       "      <td>Excellent</td>\n",
       "      <td>470</td>\n",
       "      <td>291</td>\n",
       "      <td>1</td>\n",
       "      <td>0</td>\n",
       "      <td>0</td>\n",
       "    </tr>\n",
       "  </tbody>\n",
       "</table>\n",
       "<p>5 rows × 23 columns</p>\n",
       "</div>"
      ],
      "text/plain": [
       "    Res_Id                  Rest_Name               Type   \n",
       "0  3400299                 Farsanwala    ['Quick Bites']  \\\n",
       "1  3400005     Murgi and Franky House    ['Quick Bites']   \n",
       "2  3401013          Halwai ka khajana    ['Quick Bites']   \n",
       "3  3400290          Halwai ka khajana    ['Quick Bites']   \n",
       "4  3401744  Opal Kitchen Cafe and Bar  ['Casual Dining']   \n",
       "\n",
       "                                             Address  City  City_Id   \n",
       "0  Kalyani Point, Near Tulsi Cinema, Bypass Road,...  Agra       34  \\\n",
       "1        Main Market, Sadar Bazaar, Agra Cantt, Agra  Agra       34   \n",
       "2  62/1, Near Easy Day, West Shivaji Nagar, Goalp...  Agra       34   \n",
       "3  Near Anjana Cinema, Nehru Nagar, Civil Lines, ...  Agra       34   \n",
       "4        1C,3rd Floor, Fatehabad Road, Tajganj, Agra  Agra       34   \n",
       "\n",
       "        Region   Latitude  Longitude PinCode  ... Average_Cost_Two   \n",
       "0     Khandari  27.211450  78.002381     NaN  ...              700  \\\n",
       "1   Agra Cantt  27.160569  78.011583  282001  ...              600   \n",
       "2     Shahganj  27.182938  77.979684  282010  ...              300   \n",
       "3  Civil Lines  27.205668  78.004799  282002  ...              300   \n",
       "4      Tajganj  27.157709  78.052421     NaN  ...             1000   \n",
       "\n",
       "  Price_Range                                           Services   \n",
       "0           2  ['Lunch', 'Takeaway Available', 'Credit Card',...  \\\n",
       "1           2  ['Delivery', 'No Alcohol Available', 'Dinner',...   \n",
       "2           1  ['No Alcohol Available', 'Dinner', 'Takeaway A...   \n",
       "3           1  ['Takeaway Available', 'Credit Card', 'Lunch',...   \n",
       "4           3  ['Lunch', 'Serves Alcohol', 'Cash', 'Credit Ca...   \n",
       "\n",
       "   Aggregate_Rating  Rating_Text Votes  Photo_Count Outdoor_Dining  Delivery   \n",
       "0               4.4    Very Good   814          154              0         0  \\\n",
       "1               4.4    Very Good  1203          161              0         1   \n",
       "2               4.2    Very Good   801          107              1         1   \n",
       "3               4.3    Very Good   693          157              0         1   \n",
       "4               4.9    Excellent   470          291              1         0   \n",
       "\n",
       "   Takeaway  \n",
       "0         1  \n",
       "1         1  \n",
       "2         1  \n",
       "3         1  \n",
       "4         0  \n",
       "\n",
       "[5 rows x 23 columns]"
      ]
     },
     "execution_count": 3,
     "metadata": {},
     "output_type": "execute_result"
    }
   ],
   "source": [
    "restData.head()"
   ]
  },
  {
   "cell_type": "code",
   "execution_count": 4,
   "metadata": {},
   "outputs": [
    {
     "data": {
      "text/plain": [
       "(100000, 23)"
      ]
     },
     "execution_count": 4,
     "metadata": {},
     "output_type": "execute_result"
    }
   ],
   "source": [
    "restData.shape"
   ]
  },
  {
   "cell_type": "code",
   "execution_count": 5,
   "metadata": {},
   "outputs": [
    {
     "data": {
      "text/html": [
       "<div>\n",
       "<style scoped>\n",
       "    .dataframe tbody tr th:only-of-type {\n",
       "        vertical-align: middle;\n",
       "    }\n",
       "\n",
       "    .dataframe tbody tr th {\n",
       "        vertical-align: top;\n",
       "    }\n",
       "\n",
       "    .dataframe thead th {\n",
       "        text-align: right;\n",
       "    }\n",
       "</style>\n",
       "<table border=\"1\" class=\"dataframe\">\n",
       "  <thead>\n",
       "    <tr style=\"text-align: right;\">\n",
       "      <th></th>\n",
       "      <th>Res_Id</th>\n",
       "      <th>City_Id</th>\n",
       "      <th>Latitude</th>\n",
       "      <th>Longitude</th>\n",
       "      <th>Average_Cost_Two</th>\n",
       "      <th>Price_Range</th>\n",
       "      <th>Aggregate_Rating</th>\n",
       "      <th>Votes</th>\n",
       "      <th>Photo_Count</th>\n",
       "      <th>Outdoor_Dining</th>\n",
       "      <th>Delivery</th>\n",
       "      <th>Takeaway</th>\n",
       "    </tr>\n",
       "  </thead>\n",
       "  <tbody>\n",
       "    <tr>\n",
       "      <th>count</th>\n",
       "      <td>1.000000e+05</td>\n",
       "      <td>100000.000000</td>\n",
       "      <td>100000.000000</td>\n",
       "      <td>100000.000000</td>\n",
       "      <td>100000.000000</td>\n",
       "      <td>100000.00000</td>\n",
       "      <td>100000.000000</td>\n",
       "      <td>100000.000000</td>\n",
       "      <td>100000.000000</td>\n",
       "      <td>100000.000000</td>\n",
       "      <td>100000.000000</td>\n",
       "      <td>100000.000000</td>\n",
       "    </tr>\n",
       "    <tr>\n",
       "      <th>mean</th>\n",
       "      <td>1.262795e+07</td>\n",
       "      <td>3926.388600</td>\n",
       "      <td>22.485779</td>\n",
       "      <td>78.255685</td>\n",
       "      <td>644.894480</td>\n",
       "      <td>1.94082</td>\n",
       "      <td>3.505868</td>\n",
       "      <td>467.147510</td>\n",
       "      <td>295.051720</td>\n",
       "      <td>0.004360</td>\n",
       "      <td>0.489580</td>\n",
       "      <td>0.843380</td>\n",
       "    </tr>\n",
       "    <tr>\n",
       "      <th>std</th>\n",
       "      <td>8.307685e+06</td>\n",
       "      <td>5377.039373</td>\n",
       "      <td>6.842142</td>\n",
       "      <td>6.835864</td>\n",
       "      <td>632.521161</td>\n",
       "      <td>0.92328</td>\n",
       "      <td>1.201758</td>\n",
       "      <td>1139.874296</td>\n",
       "      <td>844.321147</td>\n",
       "      <td>0.065887</td>\n",
       "      <td>0.499894</td>\n",
       "      <td>0.363444</td>\n",
       "    </tr>\n",
       "    <tr>\n",
       "      <th>min</th>\n",
       "      <td>5.000000e+01</td>\n",
       "      <td>1.000000</td>\n",
       "      <td>0.000000</td>\n",
       "      <td>0.000000</td>\n",
       "      <td>0.000000</td>\n",
       "      <td>1.00000</td>\n",
       "      <td>0.000000</td>\n",
       "      <td>-18.000000</td>\n",
       "      <td>0.000000</td>\n",
       "      <td>0.000000</td>\n",
       "      <td>0.000000</td>\n",
       "      <td>0.000000</td>\n",
       "    </tr>\n",
       "    <tr>\n",
       "      <th>25%</th>\n",
       "      <td>2.500847e+06</td>\n",
       "      <td>10.000000</td>\n",
       "      <td>16.294298</td>\n",
       "      <td>75.837268</td>\n",
       "      <td>250.000000</td>\n",
       "      <td>1.00000</td>\n",
       "      <td>3.400000</td>\n",
       "      <td>24.000000</td>\n",
       "      <td>5.000000</td>\n",
       "      <td>0.000000</td>\n",
       "      <td>0.000000</td>\n",
       "      <td>1.000000</td>\n",
       "    </tr>\n",
       "    <tr>\n",
       "      <th>50%</th>\n",
       "      <td>1.867019e+07</td>\n",
       "      <td>25.000000</td>\n",
       "      <td>23.166388</td>\n",
       "      <td>77.641539</td>\n",
       "      <td>450.000000</td>\n",
       "      <td>2.00000</td>\n",
       "      <td>3.900000</td>\n",
       "      <td>135.000000</td>\n",
       "      <td>26.000000</td>\n",
       "      <td>0.000000</td>\n",
       "      <td>0.000000</td>\n",
       "      <td>1.000000</td>\n",
       "    </tr>\n",
       "    <tr>\n",
       "      <th>75%</th>\n",
       "      <td>1.880682e+07</td>\n",
       "      <td>11306.000000</td>\n",
       "      <td>27.213219</td>\n",
       "      <td>80.227447</td>\n",
       "      <td>800.000000</td>\n",
       "      <td>3.00000</td>\n",
       "      <td>4.200000</td>\n",
       "      <td>458.000000</td>\n",
       "      <td>196.000000</td>\n",
       "      <td>0.000000</td>\n",
       "      <td>1.000000</td>\n",
       "      <td>1.000000</td>\n",
       "    </tr>\n",
       "    <tr>\n",
       "      <th>max</th>\n",
       "      <td>1.915935e+07</td>\n",
       "      <td>11352.000000</td>\n",
       "      <td>75.791315</td>\n",
       "      <td>91.832769</td>\n",
       "      <td>15000.000000</td>\n",
       "      <td>4.00000</td>\n",
       "      <td>4.900000</td>\n",
       "      <td>42539.000000</td>\n",
       "      <td>17702.000000</td>\n",
       "      <td>1.000000</td>\n",
       "      <td>1.000000</td>\n",
       "      <td>1.000000</td>\n",
       "    </tr>\n",
       "  </tbody>\n",
       "</table>\n",
       "</div>"
      ],
      "text/plain": [
       "             Res_Id        City_Id       Latitude      Longitude   \n",
       "count  1.000000e+05  100000.000000  100000.000000  100000.000000  \\\n",
       "mean   1.262795e+07    3926.388600      22.485779      78.255685   \n",
       "std    8.307685e+06    5377.039373       6.842142       6.835864   \n",
       "min    5.000000e+01       1.000000       0.000000       0.000000   \n",
       "25%    2.500847e+06      10.000000      16.294298      75.837268   \n",
       "50%    1.867019e+07      25.000000      23.166388      77.641539   \n",
       "75%    1.880682e+07   11306.000000      27.213219      80.227447   \n",
       "max    1.915935e+07   11352.000000      75.791315      91.832769   \n",
       "\n",
       "       Average_Cost_Two   Price_Range  Aggregate_Rating          Votes   \n",
       "count     100000.000000  100000.00000     100000.000000  100000.000000  \\\n",
       "mean         644.894480       1.94082          3.505868     467.147510   \n",
       "std          632.521161       0.92328          1.201758    1139.874296   \n",
       "min            0.000000       1.00000          0.000000     -18.000000   \n",
       "25%          250.000000       1.00000          3.400000      24.000000   \n",
       "50%          450.000000       2.00000          3.900000     135.000000   \n",
       "75%          800.000000       3.00000          4.200000     458.000000   \n",
       "max        15000.000000       4.00000          4.900000   42539.000000   \n",
       "\n",
       "         Photo_Count  Outdoor_Dining       Delivery       Takeaway  \n",
       "count  100000.000000   100000.000000  100000.000000  100000.000000  \n",
       "mean      295.051720        0.004360       0.489580       0.843380  \n",
       "std       844.321147        0.065887       0.499894       0.363444  \n",
       "min         0.000000        0.000000       0.000000       0.000000  \n",
       "25%         5.000000        0.000000       0.000000       1.000000  \n",
       "50%        26.000000        0.000000       0.000000       1.000000  \n",
       "75%       196.000000        0.000000       1.000000       1.000000  \n",
       "max     17702.000000        1.000000       1.000000       1.000000  "
      ]
     },
     "execution_count": 5,
     "metadata": {},
     "output_type": "execute_result"
    }
   ],
   "source": [
    "restData.describe()"
   ]
  },
  {
   "cell_type": "code",
   "execution_count": 6,
   "metadata": {},
   "outputs": [
    {
     "data": {
      "text/plain": [
       "Res_Id                int64\n",
       "Rest_Name            object\n",
       "Type                 object\n",
       "Address              object\n",
       "City                 object\n",
       "City_Id               int64\n",
       "Region               object\n",
       "Latitude            float64\n",
       "Longitude           float64\n",
       "PinCode              object\n",
       "Region_Verbose       object\n",
       "Cuisines             object\n",
       "Timing               object\n",
       "Average_Cost_Two      int64\n",
       "Price_Range           int64\n",
       "Services             object\n",
       "Aggregate_Rating    float64\n",
       "Rating_Text          object\n",
       "Votes                 int64\n",
       "Photo_Count           int64\n",
       "Outdoor_Dining        int64\n",
       "Delivery              int64\n",
       "Takeaway              int64\n",
       "dtype: object"
      ]
     },
     "execution_count": 6,
     "metadata": {},
     "output_type": "execute_result"
    }
   ],
   "source": [
    "restData.dtypes"
   ]
  },
  {
   "cell_type": "code",
   "execution_count": 7,
   "metadata": {},
   "outputs": [],
   "source": [
    "import folium "
   ]
  },
  {
   "cell_type": "code",
   "execution_count": 8,
   "metadata": {},
   "outputs": [],
   "source": [
    "latitude = restData['Latitude']\n",
    "longitude = restData['Longitude']\n"
   ]
  },
  {
   "cell_type": "code",
   "execution_count": 9,
   "metadata": {},
   "outputs": [],
   "source": [
    "# Calculate the center coordinates\n",
    "center_lat = latitude.mean()\n",
    "center_lon = longitude.mean()\n",
    "\n",
    "# Create a map object\n",
    "m = folium.Map(location=[center_lat, center_lon], zoom_start=12)"
   ]
  },
  {
   "cell_type": "code",
   "execution_count": 10,
   "metadata": {},
   "outputs": [],
   "source": [
    "for index, row in restData.iterrows():\n",
    "    # Extract restaurant information\n",
    "    restaurant_name = row['Rest_Name']\n",
    "    restaurant_lat = row['Latitude']\n",
    "    restaurant_lon = row['Longitude']\n",
    "    \n",
    "    # Create a marker for each restaurant\n",
    "    folium.Marker(\n",
    "        location=[restaurant_lat, restaurant_lon],\n",
    "        tooltip=restaurant_name,\n",
    "    ).add_to(m)\n"
   ]
  },
  {
   "cell_type": "markdown",
   "metadata": {},
   "source": [
    "### 1. Checking UNIQUE restaurent types\n"
   ]
  },
  {
   "cell_type": "code",
   "execution_count": 11,
   "metadata": {},
   "outputs": [
    {
     "data": {
      "text/plain": [
       "26"
      ]
     },
     "execution_count": 11,
     "metadata": {},
     "output_type": "execute_result"
    }
   ],
   "source": [
    "restData['Type'].nunique()"
   ]
  },
  {
   "cell_type": "code",
   "execution_count": 12,
   "metadata": {},
   "outputs": [
    {
     "data": {
      "text/plain": [
       "array([\"['Quick Bites']\", \"['Casual Dining']\", \"['Bakery']\", \"['CafÃ©']\",\n",
       "       \"['Dhaba']\", \"['Bhojanalya']\", \"['Bar']\", \"['Sweet Shop']\",\n",
       "       \"['Fine Dining']\", \"['Food Truck']\", \"['Dessert Parlour']\",\n",
       "       \"['Lounge']\", \"['Pub']\", \"['Beverage Shop']\", \"['Kiosk']\",\n",
       "       \"['Paan Shop']\", \"['Confectionery']\", '[]', \"['Shack']\",\n",
       "       \"['Club']\", \"['Food Court']\", \"['Mess']\", \"['Butcher Shop']\",\n",
       "       \"['Microbrewery']\", \"['Cocktail Bar']\", \"['Pop up']\"], dtype=object)"
      ]
     },
     "execution_count": 12,
     "metadata": {},
     "output_type": "execute_result"
    }
   ],
   "source": [
    "restData['Type'].unique()"
   ]
  },
  {
   "cell_type": "code",
   "execution_count": 13,
   "metadata": {},
   "outputs": [
    {
     "data": {
      "text/plain": [
       "Type\n",
       "['Quick Bites']        28993\n",
       "['Casual Dining']      28607\n",
       "['CafÃ©']              10507\n",
       "['Bakery']              3741\n",
       "['Fine Dining']         3455\n",
       "['Bar']                 3453\n",
       "['Dessert Parlour']     3281\n",
       "['Sweet Shop']          3081\n",
       "['Beverage Shop']       2539\n",
       "[]                      2460\n",
       "['Lounge']              1649\n",
       "['Dhaba']               1477\n",
       "['Food Court']          1414\n",
       "['Pub']                  949\n",
       "['Kiosk']                820\n",
       "['Bhojanalya']           758\n",
       "['Microbrewery']         747\n",
       "['Food Truck']           741\n",
       "['Mess']                 394\n",
       "['Paan Shop']            283\n",
       "['Club']                 265\n",
       "['Confectionery']        166\n",
       "['Butcher Shop']         142\n",
       "['Cocktail Bar']          48\n",
       "['Shack']                 25\n",
       "['Pop up']                 5\n",
       "Name: count, dtype: int64"
      ]
     },
     "execution_count": 13,
     "metadata": {},
     "output_type": "execute_result"
    }
   ],
   "source": [
    "restData['Type'].value_counts()"
   ]
  },
  {
   "cell_type": "markdown",
   "metadata": {},
   "source": [
    "### Observations:\n",
    "Most poplar types of restaurents\n",
    "- ['Quick Bites']        28993\n",
    "- ['Casual Dining']      28607\n"
   ]
  },
  {
   "cell_type": "markdown",
   "metadata": {},
   "source": [
    "### 2. Delivery, Takeaway and Outdoor Dining Service Availability"
   ]
  },
  {
   "cell_type": "code",
   "execution_count": 14,
   "metadata": {},
   "outputs": [
    {
     "data": {
      "text/plain": [
       "Delivery\n",
       "0    51042\n",
       "1    48958\n",
       "Name: count, dtype: int64"
      ]
     },
     "execution_count": 14,
     "metadata": {},
     "output_type": "execute_result"
    }
   ],
   "source": [
    "restData['Delivery'].value_counts()\n",
    "# 0 - No\n",
    "# 1 - Yes"
   ]
  },
  {
   "cell_type": "code",
   "execution_count": 15,
   "metadata": {},
   "outputs": [
    {
     "data": {
      "text/plain": [
       "Takeaway\n",
       "1    84338\n",
       "0    15662\n",
       "Name: count, dtype: int64"
      ]
     },
     "execution_count": 15,
     "metadata": {},
     "output_type": "execute_result"
    }
   ],
   "source": [
    "restData['Takeaway'].value_counts()\n",
    "# 0 - No\n",
    "# 1 - Yes"
   ]
  },
  {
   "cell_type": "code",
   "execution_count": 16,
   "metadata": {},
   "outputs": [
    {
     "data": {
      "text/plain": [
       "Outdoor_Dining\n",
       "0    99564\n",
       "1      436\n",
       "Name: count, dtype: int64"
      ]
     },
     "execution_count": 16,
     "metadata": {},
     "output_type": "execute_result"
    }
   ],
   "source": [
    "restData['Outdoor_Dining'].value_counts()\n",
    "# 0 - No\n",
    "# 1 - Yes"
   ]
  },
  {
   "cell_type": "markdown",
   "metadata": {},
   "source": [
    "### 3. Top 10 cuisines served\n"
   ]
  },
  {
   "cell_type": "code",
   "execution_count": 17,
   "metadata": {},
   "outputs": [
    {
     "name": "stdout",
     "output_type": "stream",
     "text": [
      "Cuisines\n",
      "North Indian    44230\n",
      "Chinese         28962\n",
      "Fast Food       23181\n",
      "Continental     14010\n",
      "South Indian    12034\n",
      "Italian         11194\n",
      "Beverages       10922\n",
      "Cafe            10701\n",
      "Desserts         9031\n",
      "Biryani          8145\n",
      "Name: count, dtype: int64\n"
     ]
    }
   ],
   "source": [
    "\n",
    "# Split and strip all cuisine values across the entire column\n",
    "all_cuisines = restData['Cuisines'].str.split(', ').explode().str.strip()\n",
    "\n",
    "# Create a Series with the cuisine counts\n",
    "cuisine_counts = all_cuisines.value_counts()\n",
    "\n",
    "# Print the counts of each cuisine\n",
    "print(cuisine_counts.head(10))"
   ]
  },
  {
   "cell_type": "markdown",
   "metadata": {},
   "source": [
    "### 4. Top 5 services provided"
   ]
  },
  {
   "cell_type": "code",
   "execution_count": 18,
   "metadata": {},
   "outputs": [
    {
     "name": "stdout",
     "output_type": "stream",
     "text": [
      "                Service  Count\n",
      "0                  Cash  95799\n",
      "1    Takeaway Available  84338\n",
      "2        Indoor Seating  82493\n",
      "3                Dinner  80826\n",
      "4                 Lunch  78284\n",
      "5           Credit Card  60675\n",
      "6            Debit Card  57060\n",
      "7       Air Conditioned  52038\n",
      "8              Delivery  49150\n",
      "9  No Alcohol Available  30353\n"
     ]
    }
   ],
   "source": [
    "\n",
    "# Split the \"Services\" column into individual services and create a new DataFrame\n",
    "services_df = restData['Services'].str.strip('[]').str.replace(\"'\", \"\").str.split(', ').explode()\n",
    "\n",
    "# Count the occurrences of each service and store them in a new DataFrame\n",
    "service_counts = services_df.value_counts().reset_index()\n",
    "\n",
    "# Rename the columns for clarity\n",
    "service_counts.columns = ['Service', 'Count']\n",
    "\n",
    "# Now, you have a DataFrame 'service_counts' containing the counts of each service.\n",
    "# You can sort it to find the most popular services:\n",
    "most_popular_services = service_counts.sort_values(by='Count', ascending=False)\n",
    "\n",
    "# Print the top N most popular services, e.g., top 10:\n",
    "print(most_popular_services.head(10))"
   ]
  },
  {
   "cell_type": "markdown",
   "metadata": {},
   "source": [
    "### 6. Most popular locations (Cities)"
   ]
  },
  {
   "cell_type": "code",
   "execution_count": 19,
   "metadata": {},
   "outputs": [
    {
     "data": {
      "text/plain": [
       "City\n",
       "Chennai          11630\n",
       "Bangalore         4971\n",
       "Jabalpur          3994\n",
       "New Delhi         3918\n",
       "Jaipur            3713\n",
       "Ajmer             3277\n",
       "Ahmedabad         3162\n",
       "Goa               2992\n",
       "Indore            2958\n",
       "Coimbatore        2824\n",
       "Bhopal            2656\n",
       "Agra              2622\n",
       "Guwahati          2622\n",
       "Dehradun          2577\n",
       "Bhubaneshwar      2555\n",
       "Jammu             2451\n",
       "Amritsar          2350\n",
       "Jamshedpur        2301\n",
       "Jalandhar         2291\n",
       "Gwalior           2291\n",
       "Gorakhpur         2214\n",
       "Aurangabad        2166\n",
       "Chandigarh        2138\n",
       "Allahabad         2115\n",
       "Haridwar          2070\n",
       "Dharamshala       1951\n",
       "Hyderabad         1937\n",
       "Alappuzha         1934\n",
       "Cuttack           1924\n",
       "Guntur            1918\n",
       "Jamnagar          1897\n",
       "Amravati          1852\n",
       "Gangtok           1595\n",
       "Darjeeling        1469\n",
       "Gurgaon           1290\n",
       "Mohali             811\n",
       "Jhansi             774\n",
       "Noida              467\n",
       "Panchkula          425\n",
       "Zirakpur           257\n",
       "Secunderabad       183\n",
       "Gandhinagar        152\n",
       "Ghaziabad          132\n",
       "Faridabad          124\n",
       "Greater Noida       33\n",
       "Nayagaon            17\n",
       "Name: count, dtype: int64"
      ]
     },
     "execution_count": 19,
     "metadata": {},
     "output_type": "execute_result"
    }
   ],
   "source": [
    "restData['City'].value_counts()"
   ]
  },
  {
   "cell_type": "markdown",
   "metadata": {},
   "source": [
    "### 7. Most popular regions (Within cities)"
   ]
  },
  {
   "cell_type": "code",
   "execution_count": 37,
   "metadata": {},
   "outputs": [
    {
     "name": "stdout",
     "output_type": "stream",
     "text": [
      "                  Region  Restaurant Count\n",
      "0            Indiranagar               509\n",
      "1  Koramangala 5th Block               328\n",
      "2                    HSR               291\n",
      "3           Marathahalli               244\n",
      "4              Jayanagar               189\n"
     ]
    }
   ],
   "source": [
    "# Step 1: Calculate city popularity\n",
    "city_popularity = restData['City'].value_counts().reset_index()\n",
    "city_popularity.columns = ['City', 'Restaurant Count']\n",
    "\n",
    "# Step 2: Filter for the top 5 cities by popularity\n",
    "top_5_cities = city_popularity.head(5)['City']\n",
    "\n",
    "# Step 3: Calculate region popularity within the top 5 cities\n",
    "region_popularity = restData[restData['City'].isin(top_5_cities)]['Region'].value_counts().reset_index()\n",
    "region_popularity.columns = ['Region', 'Restaurant Count']\n",
    "\n",
    "# Step 4: Find the top 5 regions in each of the top 5 cities by popularity\n",
    "top_5_regions_by_city = {}\n",
    "\n",
    "for city in top_5_cities:\n",
    "    city_df = restData[restData['City'] == city]\n",
    "    top_regions = city_df['Region'].value_counts().head(5).reset_index()\n",
    "    top_regions.columns = ['Region', 'Restaurant Count']\n",
    "    top_5_regions_by_city[city] = top_regions\n",
    "\n",
    "#top_5_regions_for_city = top_5_regions_by_city['Chennai']\n",
    "# print(top_5_regions_for_city)\n",
    "\n",
    "top_5_regions_in_most_popular_city = top_5_regions_by_city[top_5_cities.iloc[1]]\n",
    "print(top_5_regions_in_most_popular_city)\n",
    "\n"
   ]
  },
  {
   "cell_type": "code",
   "execution_count": 38,
   "metadata": {},
   "outputs": [
    {
     "name": "stdout",
     "output_type": "stream",
     "text": [
      "Chennai\n",
      "            Region  Restaurant Count\n",
      "0         T. Nagar              1138\n",
      "1          Potheri              1041\n",
      "2     Nungambakkam               815\n",
      "3      Kodambakkam               650\n",
      "4  Anna Nagar East               613\n",
      "Bangalore\n",
      "                  Region  Restaurant Count\n",
      "0            Indiranagar               509\n",
      "1  Koramangala 5th Block               328\n",
      "2                    HSR               291\n",
      "3           Marathahalli               244\n",
      "4              Jayanagar               189\n",
      "Jabalpur\n",
      "        Region  Restaurant Count\n",
      "0  Napier Town              1351\n",
      "1  Vijay Nagar               477\n",
      "2  Wright Town               471\n",
      "3        Cantt               386\n",
      "4       Rampur               333\n",
      "New Delhi\n",
      "            Region  Restaurant Count\n",
      "0  Connaught Place               395\n",
      "1   Rajouri Garden               141\n",
      "2     Punjabi Bagh               109\n",
      "3           Rohini                81\n",
      "4      Khan Market                77\n",
      "Jaipur\n",
      "           Region  Restaurant Count\n",
      "0        C Scheme               379\n",
      "1   Malviya Nagar               347\n",
      "2       Tonk Road               339\n",
      "3      Mansarovar               262\n",
      "4  Vaishali Nagar               247\n"
     ]
    }
   ],
   "source": [
    "for i in range (0,5):\n",
    "    top_5_regions_in_most_popular_city = top_5_regions_by_city[top_5_cities.iloc[i]]\n",
    "    print(top_5_cities.iloc[i])\n",
    "    print(top_5_regions_in_most_popular_city)\n"
   ]
  },
  {
   "cell_type": "code",
   "execution_count": 41,
   "metadata": {},
   "outputs": [
    {
     "name": "stdout",
     "output_type": "stream",
     "text": [
      "Jaipur\n",
      "           Region  Restaurant Count\n",
      "0        C Scheme               379\n",
      "1   Malviya Nagar               347\n",
      "2       Tonk Road               339\n",
      "3      Mansarovar               262\n",
      "4  Vaishali Nagar               247\n"
     ]
    }
   ],
   "source": [
    "top_5_regions_in_most_popular_city = top_5_regions_by_city[top_5_cities.iloc[4]]\n",
    "print(top_5_cities.iloc[4])\n",
    "print(top_5_regions_in_most_popular_city)"
   ]
  },
  {
   "cell_type": "markdown",
   "metadata": {},
   "source": [
    "### 8. Average Cost of 2 analysis across restaurents of different price ranges"
   ]
  },
  {
   "cell_type": "code",
   "execution_count": 30,
   "metadata": {},
   "outputs": [
    {
     "name": "stdout",
     "output_type": "stream",
     "text": [
      "   Price_Range  AvgCostForTwo\n",
      "0            1     229.051473\n",
      "1            2     532.517850\n",
      "2            3    1124.473487\n",
      "3            4    2223.277494\n"
     ]
    }
   ],
   "source": [
    "result = restData.groupby('Price_Range')['Average_Cost_Two'].mean().reset_index()\n",
    "result.columns = ['Price_Range', 'AvgCostForTwo']\n",
    "\n",
    "# 'result' now contains the equivalent results as the SQL query.\n",
    "print(result)"
   ]
  },
  {
   "cell_type": "code",
   "execution_count": 32,
   "metadata": {},
   "outputs": [
    {
     "data": {
      "image/png": "[encoded data removed]",
      "text/plain": [
       "<Figure size 1000x600 with 1 Axes>"
      ]
     },
     "metadata": {},
     "output_type": "display_data"
    }
   ],
   "source": [
    "plt.figure(figsize=(10, 6))\n",
    "plt.bar(result['Price_Range'], result['AvgCostForTwo'], color='skyblue')\n",
    "plt.xlabel('Price Range of the cuisines')\n",
    "plt.ylabel('Average Cost for Two')\n",
    "plt.title('Average Cost for Two People by Price Range')\n",
    "plt.xticks(result['Price_Range'])\n",
    "plt.show()"
   ]
  },
  {
   "cell_type": "markdown",
   "metadata": {},
   "source": [
    "1. Top cities to open\n",
    "2. Top lcations within cities to open\n",
    "5. Wheteher to provide takeaway, services and Outside dining services\n",
    "6. What kind of resaurent to open : 26 types\n",
    "3. Top cuisines to provide in menu\n",
    "-  How to price a meal for 2\n",
    "4. Top services to provide\n",
    "\n",
    "\n",
    "### UP nExt  cORRELATION aNALYSIS\n",
    "    "
   ]
  },
  {
   "cell_type": "code",
   "execution_count": 25,
   "metadata": {},
   "outputs": [
    {
     "name": "stdout",
     "output_type": "stream",
     "text": [
      "0.24912561240142084\n"
     ]
    }
   ],
   "source": [
    "# Example\n",
    "corr1 = restData['Average_Cost_Two'].corr(restData['Aggregate_Rating'])\n",
    "print(corr1)"
   ]
  },
  {
   "cell_type": "code",
   "execution_count": 24,
   "metadata": {},
   "outputs": [
    {
     "data": {
      "text/plain": [
       "0.22339092462862808"
      ]
     },
     "execution_count": 24,
     "metadata": {},
     "output_type": "execute_result"
    }
   ],
   "source": [
    "corr2 = restData['Delivery'].corr(restData['Aggregate_Rating'])\n",
    "corr2"
   ]
  },
  {
   "cell_type": "code",
   "execution_count": 26,
   "metadata": {},
   "outputs": [
    {
     "data": {
      "text/plain": [
       "0.016411135012067476"
      ]
     },
     "execution_count": 26,
     "metadata": {},
     "output_type": "execute_result"
    }
   ],
   "source": [
    "corr2 = restData['Outdoor_Dining'].corr(restData['Aggregate_Rating'])\n",
    "corr2"
   ]
  },
  {
   "cell_type": "code",
   "execution_count": null,
   "metadata": {},
   "outputs": [],
   "source": []
  },
  {
   "cell_type": "markdown",
   "metadata": {},
   "source": []
  }
 ],
 "metadata": {
  "kernelspec": {
   "display_name": "Python 3",
   "language": "python",
   "name": "python3"
  },
  "language_info": {
   "codemirror_mode": {
    "name": "ipython",
    "version": 3
   },
   "file_extension": ".py",
   "mimetype": "text/x-python",
   "name": "python",
   "nbconvert_exporter": "python",
   "pygments_lexer": "ipython3",
   "version": "3.11.4"
  },
  "orig_nbformat": 4
 },
 "nbformat": 4,
 "nbformat_minor": 2
}
